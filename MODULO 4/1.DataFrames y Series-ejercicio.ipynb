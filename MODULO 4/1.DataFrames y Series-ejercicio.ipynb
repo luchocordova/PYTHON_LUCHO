{
 "cells": [
  {
   "cell_type": "markdown",
   "metadata": {},
   "source": [
    "# Importar Pandas"
   ]
  },
  {
   "cell_type": "code",
   "execution_count": 1,
   "metadata": {},
   "outputs": [],
   "source": [
    "#importa pandas\n",
    "import pandas as pd\n",
    "    "
   ]
  },
  {
   "cell_type": "markdown",
   "metadata": {},
   "source": [
    "# Crear una Serie"
   ]
  },
  {
   "cell_type": "code",
   "execution_count": 26,
   "metadata": {},
   "outputs": [
    {
     "name": "stdout",
     "output_type": "stream",
     "text": [
      "0    10\n",
      "1    20\n",
      "2    10\n",
      "dtype: int64\n"
     ]
    }
   ],
   "source": [
    "# Crea una Serie de los numeros 10, 20 and 10.\n",
    "import pandas as pd\n",
    "df1 = pd.Series([10,20,10])\n",
    "print (df1)\n"
   ]
  },
  {
   "cell_type": "code",
   "execution_count": 27,
   "metadata": {},
   "outputs": [
    {
     "name": "stdout",
     "output_type": "stream",
     "text": [
      "0     rojo\n",
      "1    verde\n",
      "2     azul\n",
      "dtype: object\n"
     ]
    }
   ],
   "source": [
    "# Crea una Serie con tres objetos: 'rojo', 'verde', 'azul'\n",
    "\n",
    "import pandas as pd\n",
    "df2 = pd.Series(['rojo','verde','azul'])\n",
    "print (df2)"
   ]
  },
  {
   "cell_type": "markdown",
   "metadata": {},
   "source": [
    "# Crear un Dataframe"
   ]
  },
  {
   "cell_type": "code",
   "execution_count": 20,
   "metadata": {},
   "outputs": [
    {
     "name": "stdout",
     "output_type": "stream",
     "text": [
      "Empty DataFrame\n",
      "Columns: []\n",
      "Index: []\n"
     ]
    }
   ],
   "source": [
    "# Crea un dataframe vacío llamado 'df'\n",
    "import pandas as df\n",
    "df=pd.DataFrame()\n",
    "print (df)"
   ]
  },
  {
   "cell_type": "code",
   "execution_count": 28,
   "metadata": {},
   "outputs": [
    {
     "name": "stdout",
     "output_type": "stream",
     "text": [
      "    0\n",
      "0  10\n",
      "1  20\n",
      "2  10\n"
     ]
    }
   ],
   "source": [
    "# Crea una nueva columna en el dataframe, y asignale la primera serie que has creado\n",
    "import pandas as df\n",
    "df=pd.DataFrame(df1)\n",
    "print (df)"
   ]
  },
  {
   "cell_type": "code",
   "execution_count": 29,
   "metadata": {},
   "outputs": [
    {
     "name": "stdout",
     "output_type": "stream",
     "text": [
      "       0\n",
      "0   rojo\n",
      "1  verde\n",
      "2   azul\n"
     ]
    }
   ],
   "source": [
    "# Crea otra columna en el dataframe y asignale la segunda Serie que has creado\n",
    "import pandas as df\n",
    "df=pd.DataFrame(df2)\n",
    "print (df)"
   ]
  },
  {
   "cell_type": "markdown",
   "metadata": {},
   "source": [
    "# Leer un dataframe"
   ]
  },
  {
   "cell_type": "code",
   "execution_count": 48,
   "metadata": {},
   "outputs": [
    {
     "name": "stdout",
     "output_type": "stream",
     "text": [
      "                                                   URL  \\\n",
      "0        http://marvel.wikia.com/Henry_Pym_(Earth-616)   \n",
      "1    http://marvel.wikia.com/Janet_van_Dyne_(Earth-...   \n",
      "2    http://marvel.wikia.com/Anthony_Stark_(Earth-616)   \n",
      "3    http://marvel.wikia.com/Robert_Bruce_Banner_(E...   \n",
      "4     http://marvel.wikia.com/Thor_Odinson_(Earth-616)   \n",
      "..                                                 ...   \n",
      "168   http://marvel.wikia.com/Eric_Brooks_(Earth-616)#   \n",
      "169  http://marvel.wikia.com/Adam_Brashear_(Earth-6...   \n",
      "170  http://marvel.wikia.com/Victor_Alvarez_(Earth-...   \n",
      "171     http://marvel.wikia.com/Ava_Ayala_(Earth-616)#   \n",
      "172         http://marvel.wikia.com/Kaluu_(Earth-616)#   \n",
      "\n",
      "                          nombre  n_apariciones actual  genero  fecha_inicio  \\\n",
      "0      Henry Jonathan \"Hank\" Pym           1269    YES    MALE          1963   \n",
      "1                 Janet van Dyne           1165    YES  FEMALE          1963   \n",
      "2    Anthony Edward \"Tony\" Stark           3068    YES    MALE          1963   \n",
      "3            Robert Bruce Banner           2089    YES    MALE          1963   \n",
      "4                   Thor Odinson           2402    YES    MALE          1963   \n",
      "..                           ...            ...    ...     ...           ...   \n",
      "168                  Eric Brooks            198    YES    MALE          2013   \n",
      "169                Adam Brashear             29    YES    MALE          2014   \n",
      "170               Victor Alvarez             45    YES    MALE          2014   \n",
      "171                    Ava Ayala             49    YES  FEMALE          2014   \n",
      "172                        Kaluu             35    YES    MALE          2015   \n",
      "\n",
      "                                                 Notes  \n",
      "0    Merged with Ultron in Rage of Ultron Vol. 1. A...  \n",
      "1    Dies in Secret Invasion V1:I8. Actually was se...  \n",
      "2    Death: \"Later while under the influence of Imm...  \n",
      "3    Dies in Ghosts of the Future arc. However \"he ...  \n",
      "4    Dies in Fear Itself brought back because that'...  \n",
      "..                                                 ...  \n",
      "168                                                NaN  \n",
      "169                                                NaN  \n",
      "170                                                NaN  \n",
      "171                                                NaN  \n",
      "172                                                NaN  \n",
      "\n",
      "[173 rows x 7 columns]\n"
     ]
    }
   ],
   "source": [
    "# Lee el archivo llamado 'avengers.csv\" localizado en la carpeta \"data\" y crea un DataFrame, llamado 'avengers'. \n",
    "# El archivo está localizado en \"data/avengers.csv\"\n",
    "import pandas as pd\n",
    "avengers=pd.read_csv('data/pandas/avengers.csv')\n",
    "print (avengers)\n"
   ]
  },
  {
   "cell_type": "markdown",
   "metadata": {},
   "source": [
    "# Inspeccionar un dataframe"
   ]
  },
  {
   "cell_type": "code",
   "execution_count": 51,
   "metadata": {},
   "outputs": [
    {
     "name": "stdout",
     "output_type": "stream",
     "text": [
      "                                                 URL  \\\n",
      "0      http://marvel.wikia.com/Henry_Pym_(Earth-616)   \n",
      "1  http://marvel.wikia.com/Janet_van_Dyne_(Earth-...   \n",
      "2  http://marvel.wikia.com/Anthony_Stark_(Earth-616)   \n",
      "3  http://marvel.wikia.com/Robert_Bruce_Banner_(E...   \n",
      "4   http://marvel.wikia.com/Thor_Odinson_(Earth-616)   \n",
      "\n",
      "                        nombre  n_apariciones actual  genero  fecha_inicio  \\\n",
      "0    Henry Jonathan \"Hank\" Pym           1269    YES    MALE          1963   \n",
      "1               Janet van Dyne           1165    YES  FEMALE          1963   \n",
      "2  Anthony Edward \"Tony\" Stark           3068    YES    MALE          1963   \n",
      "3          Robert Bruce Banner           2089    YES    MALE          1963   \n",
      "4                 Thor Odinson           2402    YES    MALE          1963   \n",
      "\n",
      "                                               Notes  \n",
      "0  Merged with Ultron in Rage of Ultron Vol. 1. A...  \n",
      "1  Dies in Secret Invasion V1:I8. Actually was se...  \n",
      "2  Death: \"Later while under the influence of Imm...  \n",
      "3  Dies in Ghosts of the Future arc. However \"he ...  \n",
      "4  Dies in Fear Itself brought back because that'...  \n"
     ]
    }
   ],
   "source": [
    "# Muestra las primeras 5 filas del DataFrame.\n",
    "\n",
    "print(avengers[0:5])"
   ]
  },
  {
   "cell_type": "code",
   "execution_count": 54,
   "metadata": {},
   "outputs": [
    {
     "name": "stdout",
     "output_type": "stream",
     "text": [
      "                                                 URL  \\\n",
      "0      http://marvel.wikia.com/Henry_Pym_(Earth-616)   \n",
      "1  http://marvel.wikia.com/Janet_van_Dyne_(Earth-...   \n",
      "2  http://marvel.wikia.com/Anthony_Stark_(Earth-616)   \n",
      "3  http://marvel.wikia.com/Robert_Bruce_Banner_(E...   \n",
      "4   http://marvel.wikia.com/Thor_Odinson_(Earth-616)   \n",
      "5  http://marvel.wikia.com/Richard_Jones_(Earth-616)   \n",
      "6  http://marvel.wikia.com/Steven_Rogers_(Earth-616)   \n",
      "7   http://marvel.wikia.com/Clint_Barton_(Earth-616)   \n",
      "8  http://marvel.wikia.com/Pietro_Maximoff_(Earth...   \n",
      "9  http://marvel.wikia.com/Wanda_Maximoff_(Earth-...   \n",
      "\n",
      "                        nombre  n_apariciones actual  genero  fecha_inicio  \\\n",
      "0    Henry Jonathan \"Hank\" Pym           1269    YES    MALE          1963   \n",
      "1               Janet van Dyne           1165    YES  FEMALE          1963   \n",
      "2  Anthony Edward \"Tony\" Stark           3068    YES    MALE          1963   \n",
      "3          Robert Bruce Banner           2089    YES    MALE          1963   \n",
      "4                 Thor Odinson           2402    YES    MALE          1963   \n",
      "5       Richard Milhouse Jones            612    YES    MALE          1963   \n",
      "6                Steven Rogers           3458    YES    MALE          1964   \n",
      "7       Clinton Francis Barton           1456    YES    MALE          1965   \n",
      "8              Pietro Maximoff            769    YES    MALE          1965   \n",
      "9               Wanda Maximoff           1214    YES  FEMALE          1965   \n",
      "\n",
      "                                               Notes  \n",
      "0  Merged with Ultron in Rage of Ultron Vol. 1. A...  \n",
      "1  Dies in Secret Invasion V1:I8. Actually was se...  \n",
      "2  Death: \"Later while under the influence of Imm...  \n",
      "3  Dies in Ghosts of the Future arc. However \"he ...  \n",
      "4  Dies in Fear Itself brought back because that'...  \n",
      "5                                                NaN  \n",
      "6    Dies at the end of Civil War. Later comes back.  \n",
      "7  Dies in exploding Kree ship in Averngers Vol. ...  \n",
      "8  Dies in House of M Vol 1 Issue 7. Later comes ...  \n",
      "9  Dies in Uncanny_Avengers_Vol_1_14. Later comes...  \n"
     ]
    }
   ],
   "source": [
    "# Muestra las primeras 10 filas del DataFrame. \n",
    "print(avengers[0:10])"
   ]
  },
  {
   "cell_type": "code",
   "execution_count": 61,
   "metadata": {},
   "outputs": [
    {
     "name": "stdout",
     "output_type": "stream",
     "text": [
      "                                                   URL          nombre  \\\n",
      "168   http://marvel.wikia.com/Eric_Brooks_(Earth-616)#     Eric Brooks   \n",
      "169  http://marvel.wikia.com/Adam_Brashear_(Earth-6...   Adam Brashear   \n",
      "170  http://marvel.wikia.com/Victor_Alvarez_(Earth-...  Victor Alvarez   \n",
      "171     http://marvel.wikia.com/Ava_Ayala_(Earth-616)#       Ava Ayala   \n",
      "172         http://marvel.wikia.com/Kaluu_(Earth-616)#           Kaluu   \n",
      "\n",
      "     n_apariciones actual  genero  fecha_inicio Notes  \n",
      "168            198    YES    MALE          2013   NaN  \n",
      "169             29    YES    MALE          2014   NaN  \n",
      "170             45    YES    MALE          2014   NaN  \n",
      "171             49    YES  FEMALE          2014   NaN  \n",
      "172             35    YES    MALE          2015   NaN  \n"
     ]
    }
   ],
   "source": [
    "# Muestra las últimas 5 filas del DataFrame.\n",
    "print(avengers[-5::])\n"
   ]
  },
  {
   "cell_type": "markdown",
   "metadata": {},
   "source": [
    "# Tamaño del DataFrame"
   ]
  },
  {
   "cell_type": "code",
   "execution_count": 70,
   "metadata": {},
   "outputs": [
    {
     "name": "stdout",
     "output_type": "stream",
     "text": [
      "1211\n"
     ]
    }
   ],
   "source": [
    "# Muestra el tamaño del DataFrame\n",
    "print(avengers.size)"
   ]
  },
  {
   "cell_type": "markdown",
   "metadata": {},
   "source": [
    "# Data types en un DataFrame"
   ]
  },
  {
   "cell_type": "code",
   "execution_count": 75,
   "metadata": {},
   "outputs": [
    {
     "name": "stdout",
     "output_type": "stream",
     "text": [
      "URL              object\n",
      "nombre           object\n",
      "n_apariciones     int64\n",
      "actual           object\n",
      "genero           object\n",
      "fecha_inicio      int64\n",
      "Notes            object\n",
      "dtype: object\n"
     ]
    }
   ],
   "source": [
    "# Muestra los data types del dataframe\n",
    "print(avengers.dtypes)"
   ]
  },
  {
   "cell_type": "markdown",
   "metadata": {},
   "source": [
    "# Editar el indice (index)"
   ]
  },
  {
   "cell_type": "code",
   "execution_count": 84,
   "metadata": {},
   "outputs": [
    {
     "ename": "SyntaxError",
     "evalue": "cannot assign to function call (<ipython-input-84-cd4a1901aa9b>, line 3)",
     "output_type": "error",
     "traceback": [
      "\u001b[1;36m  File \u001b[1;32m\"<ipython-input-84-cd4a1901aa9b>\"\u001b[1;36m, line \u001b[1;32m3\u001b[0m\n\u001b[1;33m    avenger.index('fecha_inicio')='otro_nombre'\u001b[0m\n\u001b[1;37m    ^\u001b[0m\n\u001b[1;31mSyntaxError\u001b[0m\u001b[1;31m:\u001b[0m cannot assign to function call\n"
     ]
    }
   ],
   "source": [
    "# Cambia el indice a la columna \"fecha_inicio\".\n",
    "\n",
    "avenger.index('fecha_inicio')='otro_nombre'"
   ]
  },
  {
   "cell_type": "markdown",
   "metadata": {},
   "source": [
    "# Ordenar el indice"
   ]
  },
  {
   "cell_type": "code",
   "execution_count": 80,
   "metadata": {},
   "outputs": [
    {
     "name": "stdout",
     "output_type": "stream",
     "text": [
      "RangeIndex(start=0, stop=173, step=1)\n"
     ]
    }
   ],
   "source": [
    "# Ordena el índice de forma descendiente\n",
    "print(avengers.index)"
   ]
  },
  {
   "cell_type": "markdown",
   "metadata": {},
   "source": [
    "# Resetear el indice"
   ]
  },
  {
   "cell_type": "code",
   "execution_count": 82,
   "metadata": {},
   "outputs": [
    {
     "ename": "AttributeError",
     "evalue": "'DataFrame' object has no attribute 'indexreset'",
     "output_type": "error",
     "traceback": [
      "\u001b[1;31m---------------------------------------------------------------------------\u001b[0m",
      "\u001b[1;31mAttributeError\u001b[0m                            Traceback (most recent call last)",
      "\u001b[1;32m<ipython-input-82-f5fb870e34cd>\u001b[0m in \u001b[0;36m<module>\u001b[1;34m\u001b[0m\n\u001b[0;32m      1\u001b[0m \u001b[1;31m# Resetea el índice\u001b[0m\u001b[1;33m\u001b[0m\u001b[1;33m\u001b[0m\u001b[1;33m\u001b[0m\u001b[0m\n\u001b[0;32m      2\u001b[0m \u001b[1;33m\u001b[0m\u001b[0m\n\u001b[1;32m----> 3\u001b[1;33m \u001b[0mprint\u001b[0m\u001b[1;33m(\u001b[0m\u001b[0mavengers\u001b[0m\u001b[1;33m.\u001b[0m\u001b[0mindexreset\u001b[0m\u001b[1;33m)\u001b[0m\u001b[1;33m\u001b[0m\u001b[1;33m\u001b[0m\u001b[0m\n\u001b[0m",
      "\u001b[1;32m~\\anaconda3\\lib\\site-packages\\pandas\\core\\generic.py\u001b[0m in \u001b[0;36m__getattr__\u001b[1;34m(self, name)\u001b[0m\n\u001b[0;32m   5272\u001b[0m             \u001b[1;32mif\u001b[0m \u001b[0mself\u001b[0m\u001b[1;33m.\u001b[0m\u001b[0m_info_axis\u001b[0m\u001b[1;33m.\u001b[0m\u001b[0m_can_hold_identifiers_and_holds_name\u001b[0m\u001b[1;33m(\u001b[0m\u001b[0mname\u001b[0m\u001b[1;33m)\u001b[0m\u001b[1;33m:\u001b[0m\u001b[1;33m\u001b[0m\u001b[1;33m\u001b[0m\u001b[0m\n\u001b[0;32m   5273\u001b[0m                 \u001b[1;32mreturn\u001b[0m \u001b[0mself\u001b[0m\u001b[1;33m[\u001b[0m\u001b[0mname\u001b[0m\u001b[1;33m]\u001b[0m\u001b[1;33m\u001b[0m\u001b[1;33m\u001b[0m\u001b[0m\n\u001b[1;32m-> 5274\u001b[1;33m             \u001b[1;32mreturn\u001b[0m \u001b[0mobject\u001b[0m\u001b[1;33m.\u001b[0m\u001b[0m__getattribute__\u001b[0m\u001b[1;33m(\u001b[0m\u001b[0mself\u001b[0m\u001b[1;33m,\u001b[0m \u001b[0mname\u001b[0m\u001b[1;33m)\u001b[0m\u001b[1;33m\u001b[0m\u001b[1;33m\u001b[0m\u001b[0m\n\u001b[0m\u001b[0;32m   5275\u001b[0m \u001b[1;33m\u001b[0m\u001b[0m\n\u001b[0;32m   5276\u001b[0m     \u001b[1;32mdef\u001b[0m \u001b[0m__setattr__\u001b[0m\u001b[1;33m(\u001b[0m\u001b[0mself\u001b[0m\u001b[1;33m,\u001b[0m \u001b[0mname\u001b[0m\u001b[1;33m:\u001b[0m \u001b[0mstr\u001b[0m\u001b[1;33m,\u001b[0m \u001b[0mvalue\u001b[0m\u001b[1;33m)\u001b[0m \u001b[1;33m->\u001b[0m \u001b[1;32mNone\u001b[0m\u001b[1;33m:\u001b[0m\u001b[1;33m\u001b[0m\u001b[1;33m\u001b[0m\u001b[0m\n",
      "\u001b[1;31mAttributeError\u001b[0m: 'DataFrame' object has no attribute 'indexreset'"
     ]
    }
   ],
   "source": [
    "# Resetea el índice\n",
    "\n",
    "print(avengers.indexreset)"
   ]
  },
  {
   "cell_type": "code",
   "execution_count": null,
   "metadata": {},
   "outputs": [],
   "source": []
  }
 ],
 "metadata": {
  "kernelspec": {
   "display_name": "Python 3",
   "language": "python",
   "name": "python3"
  },
  "language_info": {
   "codemirror_mode": {
    "name": "ipython",
    "version": 3
   },
   "file_extension": ".py",
   "mimetype": "text/x-python",
   "name": "python",
   "nbconvert_exporter": "python",
   "pygments_lexer": "ipython3",
   "version": "3.8.3"
  }
 },
 "nbformat": 4,
 "nbformat_minor": 4
}
