{
 "cells": [
  {
   "cell_type": "markdown",
   "metadata": {},
   "source": [
    "# PROBLEMAS DIVERSOS"
   ]
  },
  {
   "cell_type": "markdown",
   "metadata": {},
   "source": [
    "<h3>1.</h3>\n",
    "Escribí un programa que solicite al usuario ingresar la cantidad de kilómetros recorridos por una motocicleta y la cantidad de litros de combustible que consumió durante ese recorrido. Mostrar el consumo de combustible por kilómetro."
   ]
  },
  {
   "cell_type": "markdown",
   "metadata": {},
   "source": [
    "<code>Kilómetros recorridos: 260\n",
    "Litros de combustible gastados: 12.5\n",
    "El consumo por kilómetro es de 20.8<code>"
   ]
  },
  {
   "cell_type": "code",
   "execution_count": 4,
   "metadata": {},
   "outputs": [
    {
     "name": "stdin",
     "output_type": "stream",
     "text": [
      "Ingrese la cantidad de Kilómetros recorridos:  260\n",
      "Ingrese la cantidad de litros de combustible gastados:  12.5\n"
     ]
    }
   ],
   "source": [
    "KILOMETROS = input(\"Ingrese la cantidad de Kilómetros recorridos: \")\n",
    "COMBUSTIBLE = input(\"Ingrese la cantidad de litros de combustible gastados: \")\n"
   ]
  },
  {
   "cell_type": "code",
   "execution_count": 5,
   "metadata": {},
   "outputs": [
    {
     "name": "stdout",
     "output_type": "stream",
     "text": [
      "El consumo por kilómetro es de  20.8\n"
     ]
    }
   ],
   "source": [
    "CONSUMO=float(KILOMETROS)/float(COMBUSTIBLE)\n",
    "print(\"El consumo por kilómetro es de \", CONSUMO)"
   ]
  },
  {
   "cell_type": "markdown",
   "metadata": {},
   "source": [
    "### 2.\n",
    "Escriba un programa que pida los coeficientes de una ecuación de segundo grado <code>(a x² + b x + c = 0)</code> y escriba la solución.\n",
    "\n",
    "Se recuerda que una ecuación de segundo grado puede no tener solución, tener una solución única, tener dos soluciones o que todos los números sean solución."
   ]
  },
  {
   "cell_type": "markdown",
   "metadata": {},
   "source": [
    "<img src='https://i.pinimg.com/originals/d3/f7/01/d3f701528ad56ce0f5a98d7c91722fd7.png'>"
   ]
  },
  {
   "cell_type": "markdown",
   "metadata": {},
   "source": [
    "Su programa debe indicar:\n",
    "- En caso la ecuación cuadrática tenga solución real, su programa debe brindar la solución\n",
    "- En caso su ecuación no tenga solución real, su programa debe brindar un mensaje que diga \"Ecuación no presenta solución real\""
   ]
  },
  {
   "cell_type": "code",
   "execution_count": 9,
   "metadata": {},
   "outputs": [
    {
     "name": "stdin",
     "output_type": "stream",
     "text": [
      "Ingrese el coeficiente de la variable cuadrática  25\n",
      "Ingrese el coeficiente de la variable lineal  36\n",
      "Ingrese el término independiente  4\n"
     ]
    },
    {
     "name": "stdout",
     "output_type": "stream",
     "text": [
      "Solución: x1=-0.121 y x2=-1.319\n"
     ]
    }
   ],
   "source": [
    "\n",
    "from math import sqrt\n",
    "A = int(input(\"Ingrese el coeficiente de la variable cuadrática \"))\n",
    "B = int(input(\"Ingrese el coeficiente de la variable lineal \"))\n",
    "C = int(input(\"Ingrese el término independiente \"))\n",
    "x1= 0\n",
    "x2= 0\n",
    "if A!=0:\n",
    "    if ((B**2)-4*A*C) < 0:\n",
    "        print(\"La ecuación no presenta solución real\")\n",
    "    else:\n",
    "        x1 = (-B+sqrt(B**2-(4*A*C)))/(2*A)\n",
    "        x2 = (-B-sqrt(B**2-(4*A*C)))/(2*A)\n",
    "        if x1==0 and x2==0:\n",
    "            print(\"Solución: x=%4.3f\"%x1)\n",
    "        else:\n",
    "            print(\"Solución: x1=%4.3f y x2=%4.3f\"%(x1,x2))\n",
    "else:\n",
    "    if B!=0:\n",
    "        x=-C/B\n",
    "        print(\"Solución: x=%4.3f\"%x)\n",
    "    else:\n",
    "        if C!=0:\n",
    "            print(\"La ecuación no presenta tiene solución\")\n",
    "        else:\n",
    "            print(\"La ecuación presenta soluciones infinitas\")"
   ]
  },
  {
   "cell_type": "code",
   "execution_count": null,
   "metadata": {},
   "outputs": [],
   "source": []
  }
 ],
 "metadata": {
  "kernelspec": {
   "display_name": "Python 3",
   "language": "python",
   "name": "python3"
  },
  "language_info": {
   "codemirror_mode": {
    "name": "ipython",
    "version": 3
   },
   "file_extension": ".py",
   "mimetype": "text/x-python",
   "name": "python",
   "nbconvert_exporter": "python",
   "pygments_lexer": "ipython3",
   "version": "3.8.3"
  }
 },
 "nbformat": 4,
 "nbformat_minor": 4
}
